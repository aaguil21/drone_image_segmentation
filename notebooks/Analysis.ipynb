{
 "cells": [
  {
   "attachments": {},
   "cell_type": "markdown",
   "id": "179a4008-2c4d-40cb-862f-19f6a98d05ee",
   "metadata": {},
   "source": [
    "# Model Analysis\n",
    "____\n",
    "\n",
    "In this notebook, I will be analysis the the two models that were trained in the Modeling.ipynb notebook and how they score on the 24 diffrent classes that can be shown in an image"
   ]
  },
  {
   "cell_type": "code",
   "execution_count": 2,
   "id": "c534e5d3-1f4c-432b-ade8-88e47a15490b",
   "metadata": {},
   "outputs": [
    {
     "name": "stderr",
     "output_type": "stream",
     "text": [
      "2023-06-11 15:33:56.164766: I tensorflow/core/platform/cpu_feature_guard.cc:182] This TensorFlow binary is optimized to use available CPU instructions in performance-critical operations.\n",
      "To enable the following instructions: AVX2 AVX512F AVX512_VNNI FMA, in other operations, rebuild TensorFlow with the appropriate compiler flags.\n"
     ]
    }
   ],
   "source": [
    "import pandas as pd\n",
    "import numpy as np\n",
    "import matplotlib.pyplot as plt\n",
    "\n",
    "import tensorflow as tf\n",
    "from tensorflow import keras\n",
    "import cv2\n",
    "\n",
    "\n",
    "from glob import glob\n",
    "import os\n",
    "\n",
    "import sys\n",
    "#sys.path.append(os.path.abspath('u_net_model.py'))\n",
    "#import module"
   ]
  },
  {
   "cell_type": "code",
   "execution_count": 5,
   "id": "4b5aad42",
   "metadata": {},
   "outputs": [
    {
     "data": {
      "text/plain": [
       "'/Users/andresaguilar/Desktop/dsi/projects/drone-image-segmentation/notebooks/drone_image_segmentation'"
      ]
     },
     "execution_count": 5,
     "metadata": {},
     "output_type": "execute_result"
    }
   ],
   "source": [
    "os.path.abspath('drone_image_segmentation')"
   ]
  },
  {
   "cell_type": "code",
   "execution_count": 2,
   "id": "6024ef22-d3a9-4501-a42d-a2cabe1de1d1",
   "metadata": {},
   "outputs": [
    {
     "data": {
      "text/plain": [
       "'/Users/andresaguilar/Desktop/dsi/projects/project_6/notebooks/u_net_model.py'"
      ]
     },
     "execution_count": 2,
     "metadata": {},
     "output_type": "execute_result"
    }
   ],
   "source": [
    "os.path.abspath('u_net_model.py')"
   ]
  },
  {
   "attachments": {},
   "cell_type": "markdown",
   "id": "50fd02ce-43ed-481f-8664-53828dc83e40",
   "metadata": {},
   "source": [
    "### Loading Data\n",
    "\n",
    "I will load in the preprocessed data set that had resized the images and masks"
   ]
  },
  {
   "cell_type": "code",
   "execution_count": 2,
   "id": "f6583d6f-8501-4aa0-9521-a64faa223301",
   "metadata": {},
   "outputs": [
    {
     "ename": "FileNotFoundError",
     "evalue": "[Errno 2] No such file or directory: '../semantic_drone_dataset/processed/images/'",
     "output_type": "error",
     "traceback": [
      "\u001b[0;31m---------------------------------------------------------------------------\u001b[0m",
      "\u001b[0;31mFileNotFoundError\u001b[0m                         Traceback (most recent call last)",
      "Cell \u001b[0;32mIn[2], line 4\u001b[0m\n\u001b[1;32m      1\u001b[0m img_folder \u001b[38;5;241m=\u001b[39m \u001b[38;5;124m'\u001b[39m\u001b[38;5;124m../semantic_drone_dataset/processed/images/\u001b[39m\u001b[38;5;124m'\u001b[39m\n\u001b[1;32m      2\u001b[0m mask_folder \u001b[38;5;241m=\u001b[39m \u001b[38;5;124m'\u001b[39m\u001b[38;5;124m../semantic_drone_dataset/processed/label_images/\u001b[39m\u001b[38;5;124m'\u001b[39m\n\u001b[0;32m----> 4\u001b[0m img_files \u001b[38;5;241m=\u001b[39m np\u001b[38;5;241m.\u001b[39msort(\u001b[43mos\u001b[49m\u001b[38;5;241;43m.\u001b[39;49m\u001b[43mlistdir\u001b[49m\u001b[43m(\u001b[49m\u001b[43mimg_folder\u001b[49m\u001b[43m)\u001b[49m)\n\u001b[1;32m      5\u001b[0m mask_files \u001b[38;5;241m=\u001b[39m np\u001b[38;5;241m.\u001b[39msort(os\u001b[38;5;241m.\u001b[39mlistdir(mask_folder))\n\u001b[1;32m      7\u001b[0m images \u001b[38;5;241m=\u001b[39m create_image_array(img_folder, img_files)\n",
      "\u001b[0;31mFileNotFoundError\u001b[0m: [Errno 2] No such file or directory: '../semantic_drone_dataset/processed/images/'"
     ]
    }
   ],
   "source": [
    "img_folder = '../semantic_drone_dataset/processed/images/'\n",
    "mask_folder = '../semantic_drone_dataset/processed/label_images/'\n",
    "\n",
    "img_files = np.sort(os.listdir(img_folder))\n",
    "mask_files = np.sort(os.listdir(mask_folder))\n",
    "\n",
    "images = create_image_array(img_folder, img_files)\n",
    "masks = create_image_array(mask_folder, mask_files)"
   ]
  },
  {
   "cell_type": "code",
   "execution_count": 4,
   "id": "d15c09eb-52c1-4748-881f-627783a4ece1",
   "metadata": {},
   "outputs": [],
   "source": [
    "#\n",
    "true_masks = list(map(mask_classes, masks))"
   ]
  },
  {
   "cell_type": "code",
   "execution_count": 5,
   "id": "dc0812ce-2e54-466a-bab3-437e5d1ef031",
   "metadata": {},
   "outputs": [],
   "source": [
    "model = unet_model(24)\n",
    "model.load_weights('seg_model_scc.h5')"
   ]
  },
  {
   "cell_type": "code",
   "execution_count": 6,
   "id": "cacb7501-3a37-4121-9ec2-117c7c26a56c",
   "metadata": {},
   "outputs": [],
   "source": [
    "preds = []\n",
    "preds_rgb = []\n",
    "for img in images:\n",
    "    pred = model.predict(img[tf.newaxis, ...], verbose = 0)\n",
    "    pred = mask_decoding(pred)[0]\n",
    "    pred_rgb = mask_rgb(pred)\n",
    "    preds.append(pred)\n",
    "    preds_rgb.append(pred_rgb)"
   ]
  },
  {
   "cell_type": "code",
   "execution_count": 19,
   "id": "b3b8d359-fadb-4cb2-98ec-833effb4fc99",
   "metadata": {},
   "outputs": [
    {
     "data": {
      "text/plain": [
       "array([0.00934788, 0.00566339, 0.00077261, 0.00036697, 0.04810522,\n",
       "       0.00150536, 0.01209637, 0.027877  , 0.00188291, 0.04949784,\n",
       "       0.04890022, 0.02290533, 0.0395032 , 0.01320803, 0.02588791,\n",
       "       0.03442249, 0.00470291, 0.1831709 , 0.01378493, 0.0025609 ,\n",
       "       0.00244085, 0.2321787 , 0.21217003, 0.00704809], dtype=float32)"
      ]
     },
     "execution_count": 19,
     "metadata": {},
     "output_type": "execute_result"
    }
   ],
   "source": [
    "model.predict(images[0][tf.newaxis, ...], verbose = 0)[0][0][0]"
   ]
  },
  {
   "cell_type": "code",
   "execution_count": 24,
   "id": "c7cf5025-151f-405a-825a-19750662fd5b",
   "metadata": {},
   "outputs": [],
   "source": [
    "series = []\n",
    "for i in range(len(images)):\n",
    "    series.append([images[i], true_masks[i], preds[i]])\n",
    "    \n",
    "series_rgb = []\n",
    "for i in range(len(images)):\n",
    "    series_rgb.append([images[i], masks[i], preds_rgb[i]])"
   ]
  },
  {
   "cell_type": "code",
   "execution_count": 28,
   "id": "aca824dc-0414-4c15-8616-b8b41c7e47c9",
   "metadata": {},
   "outputs": [],
   "source": [
    "class_names = list(pd.read_csv('./semantic_drone_dataset/class_dict.csv')['name'])"
   ]
  },
  {
   "cell_type": "code",
   "execution_count": 34,
   "id": "c3edccd7-2d99-4638-8ab1-e3f5494ad430",
   "metadata": {},
   "outputs": [],
   "source": [
    "class_iou = {}\n",
    "for i in range(24):\n",
    "    column = class_names[i] + '_iou_score'\n",
    "    class_iou[column] =  []\n",
    "    iou = tf.keras.metrics.IoU(num_classes=24, target_class_ids=[i])\n",
    "    for j in range(len(series)):\n",
    "        iou.update_state(series[j][1], series[j][2])\n",
    "        class_iou[column].append( iou.result().numpy() )\n",
    "        iou.reset_state()"
   ]
  },
  {
   "cell_type": "code",
   "execution_count": 35,
   "id": "1cb7f6aa-c5d0-42e0-a984-fc32849e6c57",
   "metadata": {},
   "outputs": [
    {
     "data": {
      "text/html": [
       "<div>\n",
       "<style scoped>\n",
       "    .dataframe tbody tr th:only-of-type {\n",
       "        vertical-align: middle;\n",
       "    }\n",
       "\n",
       "    .dataframe tbody tr th {\n",
       "        vertical-align: top;\n",
       "    }\n",
       "\n",
       "    .dataframe thead th {\n",
       "        text-align: right;\n",
       "    }\n",
       "</style>\n",
       "<table border=\"1\" class=\"dataframe\">\n",
       "  <thead>\n",
       "    <tr style=\"text-align: right;\">\n",
       "      <th></th>\n",
       "      <th>unlabelediou_score</th>\n",
       "      <th>paved-areaiou_score</th>\n",
       "      <th>dirtiou_score</th>\n",
       "      <th>grassiou_score</th>\n",
       "      <th>graveliou_score</th>\n",
       "      <th>wateriou_score</th>\n",
       "      <th>rocksiou_score</th>\n",
       "      <th>pooliou_score</th>\n",
       "      <th>vegetationiou_score</th>\n",
       "      <th>roofiou_score</th>\n",
       "      <th>...</th>\n",
       "      <th>fence-poleiou_score</th>\n",
       "      <th>personiou_score</th>\n",
       "      <th>dogiou_score</th>\n",
       "      <th>cariou_score</th>\n",
       "      <th>bicycleiou_score</th>\n",
       "      <th>treeiou_score</th>\n",
       "      <th>bald-treeiou_score</th>\n",
       "      <th>ar-markeriou_score</th>\n",
       "      <th>obstacleiou_score</th>\n",
       "      <th>conflictingiou_score</th>\n",
       "    </tr>\n",
       "  </thead>\n",
       "  <tbody>\n",
       "    <tr>\n",
       "      <th>0</th>\n",
       "      <td>0.0</td>\n",
       "      <td>0.0</td>\n",
       "      <td>0.0</td>\n",
       "      <td>0.0</td>\n",
       "      <td>0.001337</td>\n",
       "      <td>0.0</td>\n",
       "      <td>0.0</td>\n",
       "      <td>0.0</td>\n",
       "      <td>0.009917</td>\n",
       "      <td>0.000000</td>\n",
       "      <td>...</td>\n",
       "      <td>0.0</td>\n",
       "      <td>0.0</td>\n",
       "      <td>0.0</td>\n",
       "      <td>0.000000</td>\n",
       "      <td>0.0</td>\n",
       "      <td>0.004878</td>\n",
       "      <td>0.0</td>\n",
       "      <td>0.00000</td>\n",
       "      <td>0.016253</td>\n",
       "      <td>0.0</td>\n",
       "    </tr>\n",
       "    <tr>\n",
       "      <th>1</th>\n",
       "      <td>0.0</td>\n",
       "      <td>0.0</td>\n",
       "      <td>0.0</td>\n",
       "      <td>0.0</td>\n",
       "      <td>0.000000</td>\n",
       "      <td>0.0</td>\n",
       "      <td>0.0</td>\n",
       "      <td>0.0</td>\n",
       "      <td>0.000131</td>\n",
       "      <td>0.000492</td>\n",
       "      <td>...</td>\n",
       "      <td>0.0</td>\n",
       "      <td>0.0</td>\n",
       "      <td>0.0</td>\n",
       "      <td>0.000000</td>\n",
       "      <td>0.0</td>\n",
       "      <td>0.001290</td>\n",
       "      <td>0.0</td>\n",
       "      <td>0.00572</td>\n",
       "      <td>0.035295</td>\n",
       "      <td>0.0</td>\n",
       "    </tr>\n",
       "    <tr>\n",
       "      <th>2</th>\n",
       "      <td>0.0</td>\n",
       "      <td>0.0</td>\n",
       "      <td>0.0</td>\n",
       "      <td>0.0</td>\n",
       "      <td>0.000651</td>\n",
       "      <td>0.0</td>\n",
       "      <td>0.0</td>\n",
       "      <td>0.0</td>\n",
       "      <td>0.003152</td>\n",
       "      <td>0.000000</td>\n",
       "      <td>...</td>\n",
       "      <td>0.0</td>\n",
       "      <td>0.0</td>\n",
       "      <td>0.0</td>\n",
       "      <td>0.000000</td>\n",
       "      <td>0.0</td>\n",
       "      <td>0.008375</td>\n",
       "      <td>0.0</td>\n",
       "      <td>0.00000</td>\n",
       "      <td>0.022531</td>\n",
       "      <td>0.0</td>\n",
       "    </tr>\n",
       "    <tr>\n",
       "      <th>3</th>\n",
       "      <td>0.0</td>\n",
       "      <td>0.0</td>\n",
       "      <td>0.0</td>\n",
       "      <td>0.0</td>\n",
       "      <td>0.000583</td>\n",
       "      <td>0.0</td>\n",
       "      <td>0.0</td>\n",
       "      <td>0.0</td>\n",
       "      <td>0.001728</td>\n",
       "      <td>0.000000</td>\n",
       "      <td>...</td>\n",
       "      <td>0.0</td>\n",
       "      <td>0.0</td>\n",
       "      <td>0.0</td>\n",
       "      <td>0.000000</td>\n",
       "      <td>0.0</td>\n",
       "      <td>0.000000</td>\n",
       "      <td>0.0</td>\n",
       "      <td>0.00000</td>\n",
       "      <td>0.012039</td>\n",
       "      <td>0.0</td>\n",
       "    </tr>\n",
       "    <tr>\n",
       "      <th>4</th>\n",
       "      <td>0.0</td>\n",
       "      <td>0.0</td>\n",
       "      <td>0.0</td>\n",
       "      <td>0.0</td>\n",
       "      <td>0.000263</td>\n",
       "      <td>0.0</td>\n",
       "      <td>0.0</td>\n",
       "      <td>0.0</td>\n",
       "      <td>0.004961</td>\n",
       "      <td>0.060553</td>\n",
       "      <td>...</td>\n",
       "      <td>0.0</td>\n",
       "      <td>0.0</td>\n",
       "      <td>0.0</td>\n",
       "      <td>0.034363</td>\n",
       "      <td>0.0</td>\n",
       "      <td>0.002639</td>\n",
       "      <td>0.0</td>\n",
       "      <td>0.00000</td>\n",
       "      <td>0.027395</td>\n",
       "      <td>0.0</td>\n",
       "    </tr>\n",
       "  </tbody>\n",
       "</table>\n",
       "<p>5 rows × 24 columns</p>\n",
       "</div>"
      ],
      "text/plain": [
       "   unlabelediou_score  paved-areaiou_score  dirtiou_score  grassiou_score  \\\n",
       "0                 0.0                  0.0            0.0             0.0   \n",
       "1                 0.0                  0.0            0.0             0.0   \n",
       "2                 0.0                  0.0            0.0             0.0   \n",
       "3                 0.0                  0.0            0.0             0.0   \n",
       "4                 0.0                  0.0            0.0             0.0   \n",
       "\n",
       "   graveliou_score  wateriou_score  rocksiou_score  pooliou_score  \\\n",
       "0         0.001337             0.0             0.0            0.0   \n",
       "1         0.000000             0.0             0.0            0.0   \n",
       "2         0.000651             0.0             0.0            0.0   \n",
       "3         0.000583             0.0             0.0            0.0   \n",
       "4         0.000263             0.0             0.0            0.0   \n",
       "\n",
       "   vegetationiou_score  roofiou_score  ...  fence-poleiou_score  \\\n",
       "0             0.009917       0.000000  ...                  0.0   \n",
       "1             0.000131       0.000492  ...                  0.0   \n",
       "2             0.003152       0.000000  ...                  0.0   \n",
       "3             0.001728       0.000000  ...                  0.0   \n",
       "4             0.004961       0.060553  ...                  0.0   \n",
       "\n",
       "   personiou_score  dogiou_score  cariou_score  bicycleiou_score  \\\n",
       "0              0.0           0.0      0.000000               0.0   \n",
       "1              0.0           0.0      0.000000               0.0   \n",
       "2              0.0           0.0      0.000000               0.0   \n",
       "3              0.0           0.0      0.000000               0.0   \n",
       "4              0.0           0.0      0.034363               0.0   \n",
       "\n",
       "   treeiou_score  bald-treeiou_score  ar-markeriou_score  obstacleiou_score  \\\n",
       "0       0.004878                 0.0             0.00000           0.016253   \n",
       "1       0.001290                 0.0             0.00572           0.035295   \n",
       "2       0.008375                 0.0             0.00000           0.022531   \n",
       "3       0.000000                 0.0             0.00000           0.012039   \n",
       "4       0.002639                 0.0             0.00000           0.027395   \n",
       "\n",
       "   conflictingiou_score  \n",
       "0                   0.0  \n",
       "1                   0.0  \n",
       "2                   0.0  \n",
       "3                   0.0  \n",
       "4                   0.0  \n",
       "\n",
       "[5 rows x 24 columns]"
      ]
     },
     "execution_count": 35,
     "metadata": {},
     "output_type": "execute_result"
    }
   ],
   "source": [
    "df = pd.DataFrame(class_iou)\n",
    "df.head()"
   ]
  },
  {
   "cell_type": "code",
   "execution_count": 46,
   "id": "63ac8b4f-1522-41d8-b3dc-1b5dc183781a",
   "metadata": {},
   "outputs": [
    {
     "data": {
      "text/plain": [
       "unlabelediou_score      6.329114e-06\n",
       "paved-areaiou_score     7.778825e-06\n",
       "dirtiou_score           0.000000e+00\n",
       "grassiou_score          2.562473e-07\n",
       "graveliou_score         4.688045e-03\n",
       "wateriou_score          6.447814e-05\n",
       "rocksiou_score          0.000000e+00\n",
       "pooliou_score           2.470486e-05\n",
       "vegetationiou_score     1.628821e-02\n",
       "roofiou_score           3.737081e-02\n",
       "walliou_score           6.976093e-03\n",
       "windowiou_score         6.484529e-03\n",
       "dooriou_score           0.000000e+00\n",
       "fenceiou_score          0.000000e+00\n",
       "fence-poleiou_score     2.252252e-05\n",
       "personiou_score         5.480384e-04\n",
       "dogiou_score            0.000000e+00\n",
       "cariou_score            1.505645e-02\n",
       "bicycleiou_score        0.000000e+00\n",
       "treeiou_score           2.238713e-03\n",
       "bald-treeiou_score      0.000000e+00\n",
       "ar-markeriou_score      4.034429e-03\n",
       "obstacleiou_score       3.115117e-02\n",
       "conflictingiou_score    0.000000e+00\n",
       "dtype: float32"
      ]
     },
     "execution_count": 46,
     "metadata": {},
     "output_type": "execute_result"
    }
   ],
   "source": [
    "df.mean()"
   ]
  },
  {
   "cell_type": "code",
   "execution_count": 43,
   "id": "e6248b0b-acef-487a-9c6b-4cfcde13af1d",
   "metadata": {},
   "outputs": [
    {
     "data": {
      "text/plain": [
       "0.007810160099632313"
      ]
     },
     "execution_count": 43,
     "metadata": {},
     "output_type": "execute_result"
    }
   ],
   "source": [
    "ls = df.describe().T\n",
    "ls[ls['max'] > 0]['mean'].mean()"
   ]
  },
  {
   "cell_type": "code",
   "execution_count": 44,
   "id": "e4ec6c22-c1cf-4e84-b59a-b541587e68ba",
   "metadata": {},
   "outputs": [
    {
     "data": {
      "text/plain": [
       "['unlabeled',\n",
       " 'paved-area',\n",
       " 'dirt',\n",
       " 'grass',\n",
       " 'gravel',\n",
       " 'water',\n",
       " 'rocks',\n",
       " 'pool',\n",
       " 'vegetation',\n",
       " 'roof',\n",
       " 'wall',\n",
       " 'window',\n",
       " 'door',\n",
       " 'fence',\n",
       " 'fence-pole',\n",
       " 'person',\n",
       " 'dog',\n",
       " 'car',\n",
       " 'bicycle',\n",
       " 'tree',\n",
       " 'bald-tree',\n",
       " 'ar-marker',\n",
       " 'obstacle',\n",
       " 'conflicting']"
      ]
     },
     "execution_count": 44,
     "metadata": {},
     "output_type": "execute_result"
    }
   ],
   "source": [
    "list(pd.read_csv('./semantic_drone_dataset/class_dict.csv')['name'])"
   ]
  },
  {
   "cell_type": "code",
   "execution_count": null,
   "id": "c064f1b3-51b8-40ed-81b2-260f11b98fca",
   "metadata": {},
   "outputs": [],
   "source": []
  }
 ],
 "metadata": {
  "kernelspec": {
   "display_name": "Python 3 (ipykernel)",
   "language": "python",
   "name": "python3"
  },
  "language_info": {
   "codemirror_mode": {
    "name": "ipython",
    "version": 3
   },
   "file_extension": ".py",
   "mimetype": "text/x-python",
   "name": "python",
   "nbconvert_exporter": "python",
   "pygments_lexer": "ipython3",
   "version": "3.11.3"
  }
 },
 "nbformat": 4,
 "nbformat_minor": 5
}
