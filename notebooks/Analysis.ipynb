{
 "cells": [
  {
   "attachments": {},
   "cell_type": "markdown",
   "id": "179a4008-2c4d-40cb-862f-19f6a98d05ee",
   "metadata": {},
   "source": [
    "# Model Analysis\n",
    "____\n",
    "\n",
    "In this notebook, I will be analysis the the two models that were trained in the Modeling.ipynb notebook and how they score on the 24 diffrent classes that can be shown in an image"
   ]
  },
  {
   "cell_type": "code",
   "execution_count": 2,
   "id": "c534e5d3-1f4c-432b-ade8-88e47a15490b",
   "metadata": {},
   "outputs": [
    {
     "name": "stderr",
     "output_type": "stream",
     "text": [
      "2023-06-11 15:56:35.922726: I tensorflow/core/platform/cpu_feature_guard.cc:182] This TensorFlow binary is optimized to use available CPU instructions in performance-critical operations.\n",
      "To enable the following instructions: AVX2 AVX512F AVX512_VNNI FMA, in other operations, rebuild TensorFlow with the appropriate compiler flags.\n"
     ]
    }
   ],
   "source": [
    "import os\n",
    "# Change working directory up one folder to use custom modules\n",
    "os.chdir('..')\n",
    "\n",
    "import pandas as pd\n",
    "import numpy as np\n",
    "import matplotlib.pyplot as plt\n",
    "\n",
    "import tensorflow as tf\n",
    "from tensorflow import keras\n",
    "import cv2\n",
    "\n",
    "\n",
    "from glob import glob\n",
    "\n",
    "\n",
    "from module.u_net_model import unet_model\n",
    "from module.data_load import *"
   ]
  },
  {
   "attachments": {},
   "cell_type": "markdown",
   "id": "50fd02ce-43ed-481f-8664-53828dc83e40",
   "metadata": {},
   "source": [
    "### Loading Data\n",
    "\n",
    "I will load in the preprocessed data set that had resized the images and masks"
   ]
  },
  {
   "cell_type": "code",
   "execution_count": 34,
   "id": "f6583d6f-8501-4aa0-9521-a64faa223301",
   "metadata": {},
   "outputs": [],
   "source": [
    "img_folder = './semantic_drone_dataset/processed/images/'\n",
    "mask_folder = './semantic_drone_dataset/processed/label_images/'\n",
    "\n",
    "img_files = np.sort(os.listdir(img_folder))\n",
    "mask_files = np.sort(os.listdir(mask_folder))\n",
    "\n",
    "images = create_image_array(img_folder, img_files)\n",
    "masks = create_image_array(mask_folder, mask_files)"
   ]
  },
  {
   "cell_type": "code",
   "execution_count": 57,
   "id": "01b2497d",
   "metadata": {},
   "outputs": [],
   "source": [
    "def mask_shape(masks):\n",
    "    new_masks = []\n",
    "    for mask in masks:\n",
    "        new_mask = np.reshape(mask[:, :, 0], (224, 224, 1))\n",
    "        new_masks.append(new_mask)\n",
    "    return new_masks\n",
    "\n",
    "true_masks = mask_shape(masks)"
   ]
  },
  {
   "cell_type": "code",
   "execution_count": 52,
   "id": "d15c09eb-52c1-4748-881f-627783a4ece1",
   "metadata": {},
   "outputs": [],
   "source": [
    "# Convert the mask values into RGB values for plotting\n",
    "masks_rgb = list(map(mask_rgb, masks))"
   ]
  },
  {
   "cell_type": "code",
   "execution_count": 5,
   "id": "dc0812ce-2e54-466a-bab3-437e5d1ef031",
   "metadata": {},
   "outputs": [],
   "source": [
    "# Creating both models and loading the best weights from training\n",
    "model_dice = unet_model(24)\n",
    "model_dice.load_weights('./models/seg_model_dice.h5')\n",
    "\n",
    "model_cc = unet_model(24)\n",
    "model_cc.load_weights('./models/seg_model_cc.h5')"
   ]
  },
  {
   "attachments": {},
   "cell_type": "markdown",
   "id": "9c4115ac",
   "metadata": {},
   "source": [
    "### Predictions\n",
    "\n",
    "Each model will be used to make a prediciton on the images in the dataset. I will create a list for each of the predicted mask and the predicted masks with RGB for plotting."
   ]
  },
  {
   "cell_type": "code",
   "execution_count": 6,
   "id": "cacb7501-3a37-4121-9ec2-117c7c26a56c",
   "metadata": {},
   "outputs": [],
   "source": [
    "# Lists for Dice Loss Model predictions\n",
    "dice_preds = []\n",
    "dice_preds_rgb = []\n",
    "for img in images:\n",
    "    pred = model_dice.predict(img[tf.newaxis, ...], verbose = 0)\n",
    "    pred = mask_decoding(pred)[0]\n",
    "    pred_rgb = mask_rgb(pred)\n",
    "    dice_preds.append(pred)\n",
    "    dice_preds_rgb.append(pred_rgb)"
   ]
  },
  {
   "cell_type": "code",
   "execution_count": 7,
   "id": "de7ef226",
   "metadata": {},
   "outputs": [],
   "source": [
    "# Lists for CrossCategorical Entropy Loss Model predictions\n",
    "cc_preds = []\n",
    "cc_preds_rgb = []\n",
    "for img in images:\n",
    "    pred = model_cc.predict(img[tf.newaxis, ...], verbose = 0)\n",
    "    pred = mask_decoding(pred)[0]\n",
    "    pred_rgb = mask_rgb(pred)\n",
    "    cc_preds.append(pred)\n",
    "    cc_preds_rgb.append(pred_rgb)"
   ]
  },
  {
   "attachments": {},
   "cell_type": "markdown",
   "id": "9aebce0f",
   "metadata": {},
   "source": [
    "To be able to check images that correspond to low or high scores in the predictions, I will create 2 sets of lists that contain the images and masks and predictions from each model. This will also include RGB versions of masks and predictions. "
   ]
  },
  {
   "cell_type": "code",
   "execution_count": 58,
   "id": "c7cf5025-151f-405a-825a-19750662fd5b",
   "metadata": {},
   "outputs": [],
   "source": [
    "series = []\n",
    "for i in range(len(images)):\n",
    "    series.append([images[i], true_masks[i], dice_preds[i], cc_preds[i]])\n",
    "    \n",
    "series_rgb = []\n",
    "for i in range(len(images)):\n",
    "    series_rgb.append([images[i], masks_rgb[i], dice_preds_rgb[i], cc_preds_rgb[i]])"
   ]
  },
  {
   "cell_type": "code",
   "execution_count": 9,
   "id": "aca824dc-0414-4c15-8616-b8b41c7e47c9",
   "metadata": {},
   "outputs": [],
   "source": [
    "# Read class name corresponding to label\n",
    "class_names = list(pd.read_csv('./semantic_drone_dataset/class_dict.csv')['name'])"
   ]
  },
  {
   "cell_type": "code",
   "execution_count": 59,
   "id": "c3edccd7-2d99-4638-8ab1-e3f5494ad430",
   "metadata": {},
   "outputs": [],
   "source": [
    "def create_pred_df(model_num=2):\n",
    "    class_iou = {}\n",
    "    for i in range(24):\n",
    "        column = class_names[i]\n",
    "        class_iou[column] =  []\n",
    "        iou = tf.keras.metrics.IoU(num_classes=24, target_class_ids=[i])\n",
    "        for j in range(len(series)):\n",
    "            iou.update_state(series[j][1], series[j][model_num])\n",
    "            class_iou[column].append( iou.result().numpy() )\n",
    "            iou.reset_state()\n",
    "    df = pd.DataFrame(class_iou)\n",
    "    return df"
   ]
  },
  {
   "attachments": {},
   "cell_type": "markdown",
   "id": "0521d0fb",
   "metadata": {},
   "source": [
    "### IoU Scoring\n",
    "\n",
    "For scoring of the models, I will evaluate the average IoU score for each class in the data, while only including non-zero values in the average because that class could've been absent in the image"
   ]
  },
  {
   "cell_type": "code",
   "execution_count": 60,
   "id": "1cb7f6aa-c5d0-42e0-a984-fc32849e6c57",
   "metadata": {},
   "outputs": [],
   "source": [
    "# Create IoU score dataframes\n",
    "dice_iou_df = create_pred_df(2)\n",
    "cc_iou_df = create_pred_df(3)"
   ]
  },
  {
   "cell_type": "code",
   "execution_count": 61,
   "id": "63ac8b4f-1522-41d8-b3dc-1b5dc183781a",
   "metadata": {},
   "outputs": [],
   "source": [
    "# Select columns that are relevant for task\n",
    "interest_columns = ['paved-area', 'dirt', 'grass', 'gravel']"
   ]
  },
  {
   "cell_type": "code",
   "execution_count": 74,
   "id": "8ff63902",
   "metadata": {},
   "outputs": [],
   "source": [
    "def score_avg(df):\n",
    "    \"\"\"\n",
    "    Calculate average IoU score while filtering for zero-values in each category\n",
    "    \"\"\"\n",
    "    scores = {}\n",
    "    for column in df.columns:\n",
    "        avg = df[df[column] > 0][column].mean()\n",
    "        scores[column] = [avg]\n",
    "    return pd.DataFrame(scores)"
   ]
  },
  {
   "cell_type": "code",
   "execution_count": 102,
   "id": "c064f1b3-51b8-40ed-81b2-260f11b98fca",
   "metadata": {},
   "outputs": [],
   "source": [
    "dice_avg_iou = score_avg(dice_iou_df[interest_columns])\n",
    "dice_avg_iou = dice_avg_iou.T\n",
    "dice_avg_iou.columns = ['Dice']"
   ]
  },
  {
   "cell_type": "code",
   "execution_count": 103,
   "id": "3550e199",
   "metadata": {},
   "outputs": [],
   "source": [
    "cc_avg_iou = score_avg(cc_iou_df[interest_columns])\n",
    "cc_avg_iou = cc_avg_iou.T\n",
    "cc_avg_iou.columns = ['CCE']"
   ]
  },
  {
   "cell_type": "code",
   "execution_count": 115,
   "id": "aac38185",
   "metadata": {},
   "outputs": [],
   "source": [
    "# join dataframes for easier plotting\n",
    "joint = pd.merge(dice_avg_iou, cc_avg_iou, how='left', left_index=True, right_index=True)\n",
    "joint.reset_index(inplace=True)\n",
    "joint.rename(columns = {'index':'Class'}, inplace=True)"
   ]
  },
  {
   "cell_type": "code",
   "execution_count": 129,
   "id": "e4a15370",
   "metadata": {},
   "outputs": [
    {
     "data": {
      "image/png": "[encoded data removed]",
      "text/plain": [
       "<Figure size 640x480 with 1 Axes>"
      ]
     },
     "metadata": {},
     "output_type": "display_data"
    }
   ],
   "source": [
    "fig, ax = plt.subplots()\n",
    "joint.plot.bar(x='Class', ax=ax,rot=0)\n",
    "plt.title('IoU Scores per Target Class')\n",
    "plt.ylabel('IoU')\n",
    "fig.savefig('./imgs/pred_iou_scores.png')"
   ]
  },
  {
   "attachments": {},
   "cell_type": "markdown",
   "id": "548621b0",
   "metadata": {},
   "source": [
    "While the training curves during modeling showed the Entropy was a better performing loss function, the dice coefficient performed better in the target categories. "
   ]
  },
  {
   "cell_type": "code",
   "execution_count": 82,
   "id": "26139a9f",
   "metadata": {},
   "outputs": [
    {
     "data": {
      "text/html": [
       "<div>\n",
       "<style scoped>\n",
       "    .dataframe tbody tr th:only-of-type {\n",
       "        vertical-align: middle;\n",
       "    }\n",
       "\n",
       "    .dataframe tbody tr th {\n",
       "        vertical-align: top;\n",
       "    }\n",
       "\n",
       "    .dataframe thead th {\n",
       "        text-align: right;\n",
       "    }\n",
       "</style>\n",
       "<table border=\"1\" class=\"dataframe\">\n",
       "  <thead>\n",
       "    <tr style=\"text-align: right;\">\n",
       "      <th></th>\n",
       "      <th>0</th>\n",
       "    </tr>\n",
       "  </thead>\n",
       "  <tbody>\n",
       "    <tr>\n",
       "      <th>unlabeled</th>\n",
       "      <td>0.491206</td>\n",
       "    </tr>\n",
       "    <tr>\n",
       "      <th>pool</th>\n",
       "      <td>0.085057</td>\n",
       "    </tr>\n",
       "    <tr>\n",
       "      <th>ar-marker</th>\n",
       "      <td>0.075685</td>\n",
       "    </tr>\n",
       "    <tr>\n",
       "      <th>roof</th>\n",
       "      <td>0.060314</td>\n",
       "    </tr>\n",
       "    <tr>\n",
       "      <th>gravel</th>\n",
       "      <td>0.051300</td>\n",
       "    </tr>\n",
       "    <tr>\n",
       "      <th>obstacle</th>\n",
       "      <td>0.041094</td>\n",
       "    </tr>\n",
       "    <tr>\n",
       "      <th>vegetation</th>\n",
       "      <td>0.039944</td>\n",
       "    </tr>\n",
       "    <tr>\n",
       "      <th>wall</th>\n",
       "      <td>0.037976</td>\n",
       "    </tr>\n",
       "    <tr>\n",
       "      <th>window</th>\n",
       "      <td>0.037650</td>\n",
       "    </tr>\n",
       "    <tr>\n",
       "      <th>grass</th>\n",
       "      <td>0.030559</td>\n",
       "    </tr>\n",
       "    <tr>\n",
       "      <th>car</th>\n",
       "      <td>0.019412</td>\n",
       "    </tr>\n",
       "    <tr>\n",
       "      <th>paved-area</th>\n",
       "      <td>0.016174</td>\n",
       "    </tr>\n",
       "    <tr>\n",
       "      <th>person</th>\n",
       "      <td>0.014496</td>\n",
       "    </tr>\n",
       "    <tr>\n",
       "      <th>tree</th>\n",
       "      <td>0.014226</td>\n",
       "    </tr>\n",
       "    <tr>\n",
       "      <th>dirt</th>\n",
       "      <td>0.001894</td>\n",
       "    </tr>\n",
       "    <tr>\n",
       "      <th>fence</th>\n",
       "      <td>0.001509</td>\n",
       "    </tr>\n",
       "    <tr>\n",
       "      <th>water</th>\n",
       "      <td>NaN</td>\n",
       "    </tr>\n",
       "    <tr>\n",
       "      <th>rocks</th>\n",
       "      <td>NaN</td>\n",
       "    </tr>\n",
       "    <tr>\n",
       "      <th>door</th>\n",
       "      <td>NaN</td>\n",
       "    </tr>\n",
       "    <tr>\n",
       "      <th>fence-pole</th>\n",
       "      <td>NaN</td>\n",
       "    </tr>\n",
       "    <tr>\n",
       "      <th>dog</th>\n",
       "      <td>NaN</td>\n",
       "    </tr>\n",
       "    <tr>\n",
       "      <th>bicycle</th>\n",
       "      <td>NaN</td>\n",
       "    </tr>\n",
       "    <tr>\n",
       "      <th>bald-tree</th>\n",
       "      <td>NaN</td>\n",
       "    </tr>\n",
       "    <tr>\n",
       "      <th>conflicting</th>\n",
       "      <td>NaN</td>\n",
       "    </tr>\n",
       "  </tbody>\n",
       "</table>\n",
       "</div>"
      ],
      "text/plain": [
       "                    0\n",
       "unlabeled    0.491206\n",
       "pool         0.085057\n",
       "ar-marker    0.075685\n",
       "roof         0.060314\n",
       "gravel       0.051300\n",
       "obstacle     0.041094\n",
       "vegetation   0.039944\n",
       "wall         0.037976\n",
       "window       0.037650\n",
       "grass        0.030559\n",
       "car          0.019412\n",
       "paved-area   0.016174\n",
       "person       0.014496\n",
       "tree         0.014226\n",
       "dirt         0.001894\n",
       "fence        0.001509\n",
       "water             NaN\n",
       "rocks             NaN\n",
       "door              NaN\n",
       "fence-pole        NaN\n",
       "dog               NaN\n",
       "bicycle           NaN\n",
       "bald-tree         NaN\n",
       "conflicting       NaN"
      ]
     },
     "execution_count": 82,
     "metadata": {},
     "output_type": "execute_result"
    }
   ],
   "source": [
    "# Average IoU score for all classes in dataset\n",
    "cc_full_avg_iou = score_avg(cc_iou_df)\n",
    "cc_full_avg_iou.T.sort_values(by=0, ascending = False)"
   ]
  },
  {
   "cell_type": "code",
   "execution_count": 124,
   "id": "312c1849",
   "metadata": {},
   "outputs": [
    {
     "data": {
      "text/html": [
       "<div>\n",
       "<style scoped>\n",
       "    .dataframe tbody tr th:only-of-type {\n",
       "        vertical-align: middle;\n",
       "    }\n",
       "\n",
       "    .dataframe tbody tr th {\n",
       "        vertical-align: top;\n",
       "    }\n",
       "\n",
       "    .dataframe thead th {\n",
       "        text-align: right;\n",
       "    }\n",
       "</style>\n",
       "<table border=\"1\" class=\"dataframe\">\n",
       "  <thead>\n",
       "    <tr style=\"text-align: right;\">\n",
       "      <th></th>\n",
       "      <th>0</th>\n",
       "    </tr>\n",
       "  </thead>\n",
       "  <tbody>\n",
       "    <tr>\n",
       "      <th>unlabeled</th>\n",
       "      <td>0.361291</td>\n",
       "    </tr>\n",
       "    <tr>\n",
       "      <th>grass</th>\n",
       "      <td>0.183297</td>\n",
       "    </tr>\n",
       "    <tr>\n",
       "      <th>paved-area</th>\n",
       "      <td>0.178900</td>\n",
       "    </tr>\n",
       "    <tr>\n",
       "      <th>ar-marker</th>\n",
       "      <td>0.115425</td>\n",
       "    </tr>\n",
       "    <tr>\n",
       "      <th>vegetation</th>\n",
       "      <td>0.115274</td>\n",
       "    </tr>\n",
       "    <tr>\n",
       "      <th>roof</th>\n",
       "      <td>0.069760</td>\n",
       "    </tr>\n",
       "    <tr>\n",
       "      <th>gravel</th>\n",
       "      <td>0.067878</td>\n",
       "    </tr>\n",
       "    <tr>\n",
       "      <th>wall</th>\n",
       "      <td>0.059291</td>\n",
       "    </tr>\n",
       "    <tr>\n",
       "      <th>obstacle</th>\n",
       "      <td>0.050775</td>\n",
       "    </tr>\n",
       "    <tr>\n",
       "      <th>person</th>\n",
       "      <td>0.043463</td>\n",
       "    </tr>\n",
       "    <tr>\n",
       "      <th>window</th>\n",
       "      <td>0.029752</td>\n",
       "    </tr>\n",
       "    <tr>\n",
       "      <th>fence</th>\n",
       "      <td>0.009620</td>\n",
       "    </tr>\n",
       "    <tr>\n",
       "      <th>tree</th>\n",
       "      <td>0.005443</td>\n",
       "    </tr>\n",
       "    <tr>\n",
       "      <th>dirt</th>\n",
       "      <td>0.003270</td>\n",
       "    </tr>\n",
       "    <tr>\n",
       "      <th>water</th>\n",
       "      <td>0.002160</td>\n",
       "    </tr>\n",
       "    <tr>\n",
       "      <th>rocks</th>\n",
       "      <td>0.000679</td>\n",
       "    </tr>\n",
       "    <tr>\n",
       "      <th>pool</th>\n",
       "      <td>NaN</td>\n",
       "    </tr>\n",
       "    <tr>\n",
       "      <th>door</th>\n",
       "      <td>NaN</td>\n",
       "    </tr>\n",
       "    <tr>\n",
       "      <th>fence-pole</th>\n",
       "      <td>NaN</td>\n",
       "    </tr>\n",
       "    <tr>\n",
       "      <th>dog</th>\n",
       "      <td>NaN</td>\n",
       "    </tr>\n",
       "    <tr>\n",
       "      <th>car</th>\n",
       "      <td>NaN</td>\n",
       "    </tr>\n",
       "    <tr>\n",
       "      <th>bicycle</th>\n",
       "      <td>NaN</td>\n",
       "    </tr>\n",
       "    <tr>\n",
       "      <th>bald-tree</th>\n",
       "      <td>NaN</td>\n",
       "    </tr>\n",
       "    <tr>\n",
       "      <th>conflicting</th>\n",
       "      <td>NaN</td>\n",
       "    </tr>\n",
       "  </tbody>\n",
       "</table>\n",
       "</div>"
      ],
      "text/plain": [
       "                    0\n",
       "unlabeled    0.361291\n",
       "grass        0.183297\n",
       "paved-area   0.178900\n",
       "ar-marker    0.115425\n",
       "vegetation   0.115274\n",
       "roof         0.069760\n",
       "gravel       0.067878\n",
       "wall         0.059291\n",
       "obstacle     0.050775\n",
       "person       0.043463\n",
       "window       0.029752\n",
       "fence        0.009620\n",
       "tree         0.005443\n",
       "dirt         0.003270\n",
       "water        0.002160\n",
       "rocks        0.000679\n",
       "pool              NaN\n",
       "door              NaN\n",
       "fence-pole        NaN\n",
       "dog               NaN\n",
       "car               NaN\n",
       "bicycle           NaN\n",
       "bald-tree         NaN\n",
       "conflicting       NaN"
      ]
     },
     "execution_count": 124,
     "metadata": {},
     "output_type": "execute_result"
    }
   ],
   "source": [
    "# Average IoU score for all classes in dataset\n",
    "dice_full_avg_iou = score_avg(dice_iou_df)\n",
    "dice_full_avg_iou.T.sort_values(by=0, ascending = False)"
   ]
  },
  {
   "cell_type": "code",
   "execution_count": null,
   "id": "a9daf988",
   "metadata": {},
   "outputs": [],
   "source": []
  }
 ],
 "metadata": {
  "kernelspec": {
   "display_name": "Python 3 (ipykernel)",
   "language": "python",
   "name": "python3"
  },
  "language_info": {
   "codemirror_mode": {
    "name": "ipython",
    "version": 3
   },
   "file_extension": ".py",
   "mimetype": "text/x-python",
   "name": "python",
   "nbconvert_exporter": "python",
   "pygments_lexer": "ipython3",
   "version": "3.11.3"
  }
 },
 "nbformat": 4,
 "nbformat_minor": 5
}
